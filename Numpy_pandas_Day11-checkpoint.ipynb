{
 "cells": [
  {
   "cell_type": "code",
   "execution_count": 1,
   "id": "a98da421-5af3-4be9-8528-0e3d4f54c7e4",
   "metadata": {},
   "outputs": [],
   "source": [
    "###steps in data analysis jobs\n",
    "# get info about the business or the organisation \n",
    "#know the problem at hand\n",
    "# get the data\n",
    "# get the right data\n",
    "# EDA(exploratory data analysis)\n",
    "    #data cleaning (this takes longer)\n",
    "    #Data transformation\n",
    "    #Descriptive analysis(python, tableau, powerbi)\n",
    "    #data visualization done using charts(python, powerbi, tableau,)\n",
    "##Machine Learning=learning from previous data to predict future outcomes(Linear regression, binary classification, multiclassification, clustering,\n",
    "# text or sentiment analysis)\n",
    "   #preprocessing\n",
    "   #model building\n",
    "   #evaluation(verification)\n",
    "   #model deployment\n",
    "##Deep learning"
   ]
  },
  {
   "cell_type": "code",
   "execution_count": 6,
   "id": "5be039a4-dce6-44c1-97bc-19a429cf45e6",
   "metadata": {},
   "outputs": [],
   "source": [
    "# NUMPY : NUMERICAL PYTHON\n",
    "import numpy as np"
   ]
  },
  {
   "cell_type": "code",
   "execution_count": 8,
   "id": "68829233-5425-43c4-990e-2f054b0f2dde",
   "metadata": {},
   "outputs": [
    {
     "data": {
      "text/plain": [
       "array([75, 85, 60, 47])"
      ]
     },
     "execution_count": 8,
     "metadata": {},
     "output_type": "execute_result"
    }
   ],
   "source": [
    "arr1 = np.array([75,85,60,47])\n",
    "arr1"
   ]
  },
  {
   "cell_type": "markdown",
   "id": "f7ea93b4-1823-457d-80f3-addd8962580b",
   "metadata": {},
   "source": [
    "arr1.ndim"
   ]
  },
  {
   "cell_type": "code",
   "execution_count": 9,
   "id": "135e3308-10df-4a84-b419-22f48bc5d42c",
   "metadata": {},
   "outputs": [
    {
     "data": {
      "text/plain": [
       "1"
      ]
     },
     "execution_count": 9,
     "metadata": {},
     "output_type": "execute_result"
    }
   ],
   "source": [
    "arr1.ndim #checking the numbers of array dimension"
   ]
  },
  {
   "cell_type": "code",
   "execution_count": 10,
   "id": "2620d502-bcaa-4a7a-a66a-ea9e736aeba6",
   "metadata": {},
   "outputs": [
    {
     "data": {
      "text/plain": [
       "(4,)"
      ]
     },
     "execution_count": 10,
     "metadata": {},
     "output_type": "execute_result"
    }
   ],
   "source": [
    "arr1.shape #checking the shape of array dimension "
   ]
  },
  {
   "cell_type": "code",
   "execution_count": 11,
   "id": "97731d43-05bc-44cb-a4b1-184a6b77d5f6",
   "metadata": {},
   "outputs": [
    {
     "data": {
      "text/plain": [
       "dtype('int32')"
      ]
     },
     "execution_count": 11,
     "metadata": {},
     "output_type": "execute_result"
    }
   ],
   "source": [
    "arr1.dtype #shows the data type used"
   ]
  },
  {
   "cell_type": "code",
   "execution_count": 25,
   "id": "e8954608-ad5a-4a71-9a64-551511cde635",
   "metadata": {},
   "outputs": [
    {
     "data": {
      "text/plain": [
       "array([[47, 76, 98, 54],\n",
       "       [54, 86, 73, 36]])"
      ]
     },
     "execution_count": 25,
     "metadata": {},
     "output_type": "execute_result"
    }
   ],
   "source": [
    "arr2 = np.array([[47,76,98,54], [54,86,73,36]])\n",
    "arr2"
   ]
  },
  {
   "cell_type": "code",
   "execution_count": 15,
   "id": "2d9a3d20-a569-4c77-b08e-df1ca346ef17",
   "metadata": {},
   "outputs": [
    {
     "data": {
      "text/plain": [
       "(2, 4)"
      ]
     },
     "execution_count": 15,
     "metadata": {},
     "output_type": "execute_result"
    }
   ],
   "source": [
    "arr2.shape"
   ]
  },
  {
   "cell_type": "code",
   "execution_count": 16,
   "id": "8e95e872-58ce-45de-b9a8-7c0c4f242f7d",
   "metadata": {},
   "outputs": [
    {
     "data": {
      "text/plain": [
       "2"
      ]
     },
     "execution_count": 16,
     "metadata": {},
     "output_type": "execute_result"
    }
   ],
   "source": [
    "arr2.ndim"
   ]
  },
  {
   "cell_type": "code",
   "execution_count": 26,
   "id": "8b09426e-688f-4a08-8ecc-c37d01b9aec5",
   "metadata": {},
   "outputs": [
    {
     "data": {
      "text/plain": [
       "dtype('int32')"
      ]
     },
     "execution_count": 26,
     "metadata": {},
     "output_type": "execute_result"
    }
   ],
   "source": [
    "arr2.dtype"
   ]
  },
  {
   "cell_type": "code",
   "execution_count": 27,
   "id": "f2487c46-9a4c-4c78-b52b-054e07dec8fa",
   "metadata": {},
   "outputs": [
    {
     "data": {
      "text/plain": [
       "array([[0., 0., 0., 0., 0.],\n",
       "       [0., 0., 0., 0., 0.],\n",
       "       [0., 0., 0., 0., 0.],\n",
       "       [0., 0., 0., 0., 0.]])"
      ]
     },
     "execution_count": 27,
     "metadata": {},
     "output_type": "execute_result"
    }
   ],
   "source": [
    "#creating an array where all values are zero\n",
    "np.zeros((4,5))"
   ]
  },
  {
   "cell_type": "code",
   "execution_count": 29,
   "id": "ba516971-5500-4985-8fee-49d7ec988524",
   "metadata": {},
   "outputs": [
    {
     "data": {
      "text/plain": [
       "array([0., 0., 0., 0., 0., 0., 0., 0., 0., 0., 0., 0., 0., 0., 0., 0., 0.,\n",
       "       0., 0., 0.])"
      ]
     },
     "execution_count": 29,
     "metadata": {},
     "output_type": "execute_result"
    }
   ],
   "source": [
    "np.zeros(20)"
   ]
  },
  {
   "cell_type": "code",
   "execution_count": 30,
   "id": "ee461e0f-d9f3-47f4-a745-058791d0d94d",
   "metadata": {},
   "outputs": [
    {
     "data": {
      "text/plain": [
       "array([1., 1., 1., 1., 1., 1., 1., 1., 1., 1., 1., 1., 1., 1., 1., 1., 1.,\n",
       "       1., 1., 1., 1., 1., 1., 1., 1., 1., 1., 1., 1., 1., 1., 1., 1., 1.,\n",
       "       1., 1., 1., 1., 1., 1., 1., 1., 1., 1., 1., 1., 1., 1., 1., 1., 1.,\n",
       "       1., 1., 1., 1., 1., 1., 1., 1., 1.])"
      ]
     },
     "execution_count": 30,
     "metadata": {},
     "output_type": "execute_result"
    }
   ],
   "source": [
    "#creating an array where all values are one\n",
    "np.ones(60)"
   ]
  },
  {
   "cell_type": "code",
   "execution_count": 32,
   "id": "c8dfe5b2-ba30-404e-b708-69f0ec1b19cd",
   "metadata": {},
   "outputs": [
    {
     "data": {
      "text/plain": [
       "array([[15., 15., 15., 15., 15.],\n",
       "       [15., 15., 15., 15., 15.],\n",
       "       [15., 15., 15., 15., 15.],\n",
       "       [15., 15., 15., 15., 15.],\n",
       "       [15., 15., 15., 15., 15.]])"
      ]
     },
     "execution_count": 32,
     "metadata": {},
     "output_type": "execute_result"
    }
   ],
   "source": [
    "np.ones((5,5)) * 15"
   ]
  },
  {
   "cell_type": "code",
   "execution_count": 33,
   "id": "6af66c53-a321-42b3-be30-edc6ee5d49d6",
   "metadata": {},
   "outputs": [
    {
     "data": {
      "text/plain": [
       "array([20.        , 21.02040816, 22.04081633, 23.06122449, 24.08163265,\n",
       "       25.10204082, 26.12244898, 27.14285714, 28.16326531, 29.18367347,\n",
       "       30.20408163, 31.2244898 , 32.24489796, 33.26530612, 34.28571429,\n",
       "       35.30612245, 36.32653061, 37.34693878, 38.36734694, 39.3877551 ,\n",
       "       40.40816327, 41.42857143, 42.44897959, 43.46938776, 44.48979592,\n",
       "       45.51020408, 46.53061224, 47.55102041, 48.57142857, 49.59183673,\n",
       "       50.6122449 , 51.63265306, 52.65306122, 53.67346939, 54.69387755,\n",
       "       55.71428571, 56.73469388, 57.75510204, 58.7755102 , 59.79591837,\n",
       "       60.81632653, 61.83673469, 62.85714286, 63.87755102, 64.89795918,\n",
       "       65.91836735, 66.93877551, 67.95918367, 68.97959184, 70.        ])"
      ]
     },
     "execution_count": 33,
     "metadata": {},
     "output_type": "execute_result"
    }
   ],
   "source": [
    "# linspace, generates an array that are evenly spaced, an interval must be set\n",
    "np.linspace(20,70)"
   ]
  },
  {
   "cell_type": "code",
   "execution_count": 34,
   "id": "a75d6978-411b-4cf3-9c83-39309c1431b2",
   "metadata": {},
   "outputs": [
    {
     "data": {
      "text/plain": [
       "array([[1., 0., 0., 0., 0., 0.],\n",
       "       [0., 1., 0., 0., 0., 0.],\n",
       "       [0., 0., 1., 0., 0., 0.],\n",
       "       [0., 0., 0., 1., 0., 0.],\n",
       "       [0., 0., 0., 0., 1., 0.],\n",
       "       [0., 0., 0., 0., 0., 1.]])"
      ]
     },
     "execution_count": 34,
     "metadata": {},
     "output_type": "execute_result"
    }
   ],
   "source": [
    "# eye creates 2 dimensional array having zero else where and 1 on the diagonal\n",
    "np.eye(6)"
   ]
  },
  {
   "cell_type": "code",
   "execution_count": 35,
   "id": "27a8ef16-d95a-4f46-858e-917343a98663",
   "metadata": {},
   "outputs": [
    {
     "data": {
      "text/plain": [
       "array([  1,   2,   3,   4,   5,   6,   7,   8,   9,  10,  11,  12,  13,\n",
       "        14,  15,  16,  17,  18,  19,  20,  21,  22,  23,  24,  25,  26,\n",
       "        27,  28,  29,  30,  31,  32,  33,  34,  35,  36,  37,  38,  39,\n",
       "        40,  41,  42,  43,  44,  45,  46,  47,  48,  49,  50,  51,  52,\n",
       "        53,  54,  55,  56,  57,  58,  59,  60,  61,  62,  63,  64,  65,\n",
       "        66,  67,  68,  69,  70,  71,  72,  73,  74,  75,  76,  77,  78,\n",
       "        79,  80,  81,  82,  83,  84,  85,  86,  87,  88,  89,  90,  91,\n",
       "        92,  93,  94,  95,  96,  97,  98,  99, 100])"
      ]
     },
     "execution_count": 35,
     "metadata": {},
     "output_type": "execute_result"
    }
   ],
   "source": [
    "arr4 = np.arange(1,101)\n",
    "arr4"
   ]
  },
  {
   "cell_type": "code",
   "execution_count": 36,
   "id": "28b5da7c-a626-4c5c-96d7-6278479ec0df",
   "metadata": {},
   "outputs": [
    {
     "data": {
      "text/plain": [
       "array([ 1,  6, 11, 16, 21, 26, 31, 36, 41, 46, 51, 56, 61, 66, 71, 76, 81,\n",
       "       86, 91, 96])"
      ]
     },
     "execution_count": 36,
     "metadata": {},
     "output_type": "execute_result"
    }
   ],
   "source": [
    "arr4 = np.arange(1,101,5)\n",
    "arr4"
   ]
  },
  {
   "cell_type": "code",
   "execution_count": 37,
   "id": "03f77f86-5345-4277-83cd-e4523134176b",
   "metadata": {},
   "outputs": [
    {
     "data": {
      "text/plain": [
       "70"
      ]
     },
     "execution_count": 37,
     "metadata": {},
     "output_type": "execute_result"
    }
   ],
   "source": [
    "arr5 = np.random.randint(15,105)\n",
    "arr5"
   ]
  },
  {
   "cell_type": "code",
   "execution_count": 38,
   "id": "e04f11bd-df5d-46be-be40-b0969269421a",
   "metadata": {},
   "outputs": [
    {
     "data": {
      "text/plain": [
       "array([ 36,  78,  63, 100,  34,  39,  32,  71,  42,  80,  90,  49,  63,\n",
       "        87,  96,  85,  18,  51,  69,  45,  60,  46,  29,  44,  41, 103,\n",
       "        91,  91,  96,  68,  45, 102,  48,  38,  67,  30,  35,  60,  31,\n",
       "        35,  94,  95,  42,  49,  66,  83,  58,  44,  40,  63,  49,  97,\n",
       "        57,  76,  48, 104,  91,  58,  88,  59,  30, 103,  70,  63,  70,\n",
       "        59,  25,  42,  26,  92,  66,  65,  24,  46,  86,  89,  67,  23,\n",
       "        57,  37,  26,  29,  20,  90,  98,  62,  87,  44,  64,  88,  22,\n",
       "        63,  25,  97,  16,  53,  85,  54,  98,  89])"
      ]
     },
     "execution_count": 38,
     "metadata": {},
     "output_type": "execute_result"
    }
   ],
   "source": [
    "arr5 = np.random.randint(15,105,100)\n",
    "arr5"
   ]
  },
  {
   "cell_type": "code",
   "execution_count": 39,
   "id": "bd8ada5b-300f-482d-bac6-548d57dfd109",
   "metadata": {},
   "outputs": [
    {
     "data": {
      "text/plain": [
       "array([ 93,  76,  31,  88,  23,  77,  42,  45,  95,  22,  91,  30,  68,\n",
       "        95,  42,  59,  92,  90,  80,  62,  45,  99, 101,  33,  24,  56,\n",
       "        77,  16,  97,  31,  93,  20,  73,  15,  95,  19,  51,  66,  42,\n",
       "        46,  17,  83,  53,  98,  34,  33,  22,  45,  77,  26,  82,  80,\n",
       "        70,  18,  93,  42,  44,  48, 104, 100,  22,  31,  29,  46,  24,\n",
       "        53,  62,  31,  20,  49,  60,  74,  39,  28,  46,  47,  91,  59,\n",
       "        20,  29,  62,  97,  15,  22, 101,  31,  79,  23,  59,  52,  90,\n",
       "        20,  37,  67,  84,  97,  75,  44, 103,  94])"
      ]
     },
     "execution_count": 39,
     "metadata": {},
     "output_type": "execute_result"
    }
   ],
   "source": [
    "np.random.seed(5)\n",
    "arr5 = np.random.randint(15,105,100)\n",
    "arr5"
   ]
  },
  {
   "cell_type": "code",
   "execution_count": 41,
   "id": "ebc93ca1-795a-4f5a-8426-fc7bd35791b1",
   "metadata": {},
   "outputs": [
    {
     "data": {
      "text/plain": [
       "array([[ 93,  76,  31,  88,  23,  77,  42,  45,  95,  22],\n",
       "       [ 91,  30,  68,  95,  42,  59,  92,  90,  80,  62],\n",
       "       [ 45,  99, 101,  33,  24,  56,  77,  16,  97,  31],\n",
       "       [ 93,  20,  73,  15,  95,  19,  51,  66,  42,  46],\n",
       "       [ 17,  83,  53,  98,  34,  33,  22,  45,  77,  26],\n",
       "       [ 82,  80,  70,  18,  93,  42,  44,  48, 104, 100],\n",
       "       [ 22,  31,  29,  46,  24,  53,  62,  31,  20,  49],\n",
       "       [ 60,  74,  39,  28,  46,  47,  91,  59,  20,  29],\n",
       "       [ 62,  97,  15,  22, 101,  31,  79,  23,  59,  52],\n",
       "       [ 90,  20,  37,  67,  84,  97,  75,  44, 103,  94]])"
      ]
     },
     "execution_count": 41,
     "metadata": {},
     "output_type": "execute_result"
    }
   ],
   "source": [
    "arr6 = arr5.reshape((10,10))\n",
    "arr6"
   ]
  },
  {
   "cell_type": "code",
   "execution_count": 42,
   "id": "38172925-c108-42de-993e-fde0fff20500",
   "metadata": {},
   "outputs": [
    {
     "data": {
      "text/plain": [
       "33"
      ]
     },
     "execution_count": 42,
     "metadata": {},
     "output_type": "execute_result"
    }
   ],
   "source": [
    "arr6[4,5]"
   ]
  },
  {
   "cell_type": "code",
   "execution_count": 46,
   "id": "5e30ed6f-7530-4b77-96c5-0732ec314f88",
   "metadata": {},
   "outputs": [
    {
     "data": {
      "text/plain": [
       "array([[15, 95, 19],\n",
       "       [98, 34, 33],\n",
       "       [18, 93, 42],\n",
       "       [46, 24, 53]])"
      ]
     },
     "execution_count": 46,
     "metadata": {},
     "output_type": "execute_result"
    }
   ],
   "source": [
    "arr6[3:7,3:6]"
   ]
  },
  {
   "cell_type": "code",
   "execution_count": 48,
   "id": "7b7229e2-409e-4582-b411-f4818ec9901c",
   "metadata": {},
   "outputs": [
    {
     "data": {
      "text/plain": [
       "array([[ 93,  76,  31,  88,  23,  77,  42,  45,  95,  22],\n",
       "       [ 91,  30,  68,  95,  42,  59,  92,  90,  80,  62],\n",
       "       [ 45,  99, 101,  33,  24,  56,  77,  16,  97,  31],\n",
       "       [ 93,  20,  73, 100, 100, 100,  51,  66,  42,  46],\n",
       "       [ 17,  83,  53, 100, 100, 100,  22,  45,  77,  26],\n",
       "       [ 82,  80,  70, 100, 100, 100,  44,  48, 104, 100],\n",
       "       [ 22,  31,  29, 100, 100, 100,  62,  31,  20,  49],\n",
       "       [ 60,  74,  39,  28,  46,  47,  91,  59,  20,  29],\n",
       "       [ 62,  97,  15,  22, 101,  31,  79,  23,  59,  52],\n",
       "       [ 90,  20,  37,  67,  84,  97,  75,  44, 103,  94]])"
      ]
     },
     "execution_count": 48,
     "metadata": {},
     "output_type": "execute_result"
    }
   ],
   "source": [
    "arr6[3:7,3:6] = 100\n",
    "arr6"
   ]
  },
  {
   "cell_type": "code",
   "execution_count": 49,
   "id": "50cbe184-d352-49f1-9a56-aeb19338b1b7",
   "metadata": {},
   "outputs": [
    {
     "data": {
      "text/plain": [
       "array([ 93,  76,  31,  88,  23,  77,  42,  45,  95,  22,  91,  30,  68,\n",
       "        95,  42,  59,  92,  90,  80,  62,  45,  99, 101,  33,  24,  56,\n",
       "        77,  16,  97,  31,  93,  20,  73, 100, 100, 100,  51,  66,  42,\n",
       "        46,  17,  83,  53, 100, 100, 100,  22,  45,  77,  26,  82,  80,\n",
       "        70, 100, 100, 100,  44,  48, 104, 100,  22,  31,  29, 100, 100,\n",
       "       100,  62,  31,  20,  49,  60,  74,  39,  28,  46,  47,  91,  59,\n",
       "        20,  29,  62,  97,  15,  22, 101,  31,  79,  23,  59,  52,  90,\n",
       "        20,  37,  67,  84,  97,  75,  44, 103,  94])"
      ]
     },
     "execution_count": 49,
     "metadata": {},
     "output_type": "execute_result"
    }
   ],
   "source": [
    "arr7 = arr6.flatten()\n",
    "arr7"
   ]
  },
  {
   "cell_type": "code",
   "execution_count": 50,
   "id": "32bac71d-301b-4664-8b7c-30e08a0d2387",
   "metadata": {},
   "outputs": [
    {
     "data": {
      "text/plain": [
       "6311"
      ]
     },
     "execution_count": 50,
     "metadata": {},
     "output_type": "execute_result"
    }
   ],
   "source": [
    "np.sum(arr7)"
   ]
  },
  {
   "cell_type": "code",
   "execution_count": 51,
   "id": "32c6a053-08f7-4a78-b8e2-793f73ddb207",
   "metadata": {},
   "outputs": [
    {
     "data": {
      "text/plain": [
       "104"
      ]
     },
     "execution_count": 51,
     "metadata": {},
     "output_type": "execute_result"
    }
   ],
   "source": [
    "np.max(arr7)"
   ]
  },
  {
   "cell_type": "code",
   "execution_count": 53,
   "id": "2aca40d1-a752-465a-81c7-78d21681693f",
   "metadata": {},
   "outputs": [
    {
     "data": {
      "text/plain": [
       "63.11"
      ]
     },
     "execution_count": 53,
     "metadata": {},
     "output_type": "execute_result"
    }
   ],
   "source": [
    "np.mean(arr7)"
   ]
  },
  {
   "cell_type": "code",
   "execution_count": 54,
   "id": "31123ce8-cfc2-4f14-93c8-9e026299c2f7",
   "metadata": {},
   "outputs": [
    {
     "data": {
      "text/plain": [
       "15"
      ]
     },
     "execution_count": 54,
     "metadata": {},
     "output_type": "execute_result"
    }
   ],
   "source": [
    "np.min(arr7)"
   ]
  },
  {
   "cell_type": "code",
   "execution_count": 55,
   "id": "957bd10e-5af9-4315-8254-3d6270e1c15b",
   "metadata": {},
   "outputs": [
    {
     "data": {
      "text/plain": [
       "62.0"
      ]
     },
     "execution_count": 55,
     "metadata": {},
     "output_type": "execute_result"
    }
   ],
   "source": [
    "np.median(arr7)"
   ]
  },
  {
   "cell_type": "code",
   "execution_count": 56,
   "id": "44d3e3f3-41ea-4f12-9779-998cd96dfd2b",
   "metadata": {},
   "outputs": [
    {
     "data": {
      "text/plain": [
       "62.0"
      ]
     },
     "execution_count": 56,
     "metadata": {},
     "output_type": "execute_result"
    }
   ],
   "source": [
    " np.percentile(arr7,50)"
   ]
  },
  {
   "cell_type": "code",
   "execution_count": 59,
   "id": "5ae19f84-9ad8-4592-b16a-ec4469302b6c",
   "metadata": {},
   "outputs": [
    {
     "data": {
      "text/plain": [
       "58"
      ]
     },
     "execution_count": 59,
     "metadata": {},
     "output_type": "execute_result"
    }
   ],
   "source": [
    "#argmax returns the location of the first maximum value\n",
    "np.argmax(arr7)"
   ]
  },
  {
   "cell_type": "code",
   "execution_count": null,
   "id": "4d4fe0a8-4be8-443c-aca6-05b330f03e22",
   "metadata": {},
   "outputs": [],
   "source": [
    "#data analysis and visualization\n",
    "# understand the domain knowledge(tools to use for a particular task)\n",
    "#"
   ]
  }
 ],
 "metadata": {
  "kernelspec": {
   "display_name": "Python 3 (ipykernel)",
   "language": "python",
   "name": "python3"
  },
  "language_info": {
   "codemirror_mode": {
    "name": "ipython",
    "version": 3
   },
   "file_extension": ".py",
   "mimetype": "text/x-python",
   "name": "python",
   "nbconvert_exporter": "python",
   "pygments_lexer": "ipython3",
   "version": "3.11.7"
  }
 },
 "nbformat": 4,
 "nbformat_minor": 5
}
