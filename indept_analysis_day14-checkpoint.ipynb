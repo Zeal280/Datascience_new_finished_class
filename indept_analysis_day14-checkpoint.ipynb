{
 "cells": [
  {
   "cell_type": "code",
   "execution_count": 1,
   "id": "46bfd600-2239-4b61-aa2c-23064d7e6550",
   "metadata": {},
   "outputs": [],
   "source": [
    "import numpy as np\n",
    "import pandas as pd"
   ]
  },
  {
   "cell_type": "code",
   "execution_count": 2,
   "id": "1f8bbc7e-3f9c-41e0-baa2-b8203dd3f598",
   "metadata": {},
   "outputs": [
    {
     "data": {
      "text/html": [
       "<div>\n",
       "<style scoped>\n",
       "    .dataframe tbody tr th:only-of-type {\n",
       "        vertical-align: middle;\n",
       "    }\n",
       "\n",
       "    .dataframe tbody tr th {\n",
       "        vertical-align: top;\n",
       "    }\n",
       "\n",
       "    .dataframe thead th {\n",
       "        text-align: right;\n",
       "    }\n",
       "</style>\n",
       "<table border=\"1\" class=\"dataframe\">\n",
       "  <thead>\n",
       "    <tr style=\"text-align: right;\">\n",
       "      <th></th>\n",
       "      <th>Transaction ID</th>\n",
       "      <th>Country</th>\n",
       "      <th>Amount (USD)</th>\n",
       "      <th>Transaction Type</th>\n",
       "      <th>Date of Transaction</th>\n",
       "      <th>Person Involved</th>\n",
       "      <th>Industry</th>\n",
       "      <th>Destination Country</th>\n",
       "      <th>Reported by Authority</th>\n",
       "      <th>Source of Money</th>\n",
       "      <th>Money Laundering Risk Score</th>\n",
       "      <th>Shell Companies Involved</th>\n",
       "      <th>Financial Institution</th>\n",
       "      <th>Tax Haven Country</th>\n",
       "    </tr>\n",
       "  </thead>\n",
       "  <tbody>\n",
       "    <tr>\n",
       "      <th>0</th>\n",
       "      <td>TX0000000001</td>\n",
       "      <td>Brazil</td>\n",
       "      <td>3.267530e+06</td>\n",
       "      <td>Offshore Transfer</td>\n",
       "      <td>2013-01-01 00:00:00</td>\n",
       "      <td>Person_1101</td>\n",
       "      <td>Construction</td>\n",
       "      <td>USA</td>\n",
       "      <td>True</td>\n",
       "      <td>Illegal</td>\n",
       "      <td>6</td>\n",
       "      <td>1</td>\n",
       "      <td>Bank_40</td>\n",
       "      <td>Singapore</td>\n",
       "    </tr>\n",
       "    <tr>\n",
       "      <th>1</th>\n",
       "      <td>TX0000000002</td>\n",
       "      <td>China</td>\n",
       "      <td>4.965767e+06</td>\n",
       "      <td>Stocks Transfer</td>\n",
       "      <td>2013-01-01 01:00:00</td>\n",
       "      <td>Person_7484</td>\n",
       "      <td>Luxury Goods</td>\n",
       "      <td>South Africa</td>\n",
       "      <td>False</td>\n",
       "      <td>Illegal</td>\n",
       "      <td>9</td>\n",
       "      <td>0</td>\n",
       "      <td>Bank_461</td>\n",
       "      <td>Bahamas</td>\n",
       "    </tr>\n",
       "    <tr>\n",
       "      <th>2</th>\n",
       "      <td>TX0000000003</td>\n",
       "      <td>UK</td>\n",
       "      <td>9.416750e+04</td>\n",
       "      <td>Stocks Transfer</td>\n",
       "      <td>2013-01-01 02:00:00</td>\n",
       "      <td>Person_3655</td>\n",
       "      <td>Construction</td>\n",
       "      <td>Switzerland</td>\n",
       "      <td>True</td>\n",
       "      <td>Illegal</td>\n",
       "      <td>1</td>\n",
       "      <td>3</td>\n",
       "      <td>Bank_387</td>\n",
       "      <td>Switzerland</td>\n",
       "    </tr>\n",
       "    <tr>\n",
       "      <th>3</th>\n",
       "      <td>TX0000000004</td>\n",
       "      <td>UAE</td>\n",
       "      <td>3.864201e+05</td>\n",
       "      <td>Cash Withdrawal</td>\n",
       "      <td>2013-01-01 03:00:00</td>\n",
       "      <td>Person_3226</td>\n",
       "      <td>Oil &amp; Gas</td>\n",
       "      <td>Russia</td>\n",
       "      <td>False</td>\n",
       "      <td>Illegal</td>\n",
       "      <td>7</td>\n",
       "      <td>2</td>\n",
       "      <td>Bank_353</td>\n",
       "      <td>Panama</td>\n",
       "    </tr>\n",
       "    <tr>\n",
       "      <th>4</th>\n",
       "      <td>TX0000000005</td>\n",
       "      <td>South Africa</td>\n",
       "      <td>6.433784e+05</td>\n",
       "      <td>Cryptocurrency</td>\n",
       "      <td>2013-01-01 04:00:00</td>\n",
       "      <td>Person_7975</td>\n",
       "      <td>Real Estate</td>\n",
       "      <td>USA</td>\n",
       "      <td>True</td>\n",
       "      <td>Illegal</td>\n",
       "      <td>1</td>\n",
       "      <td>9</td>\n",
       "      <td>Bank_57</td>\n",
       "      <td>Luxembourg</td>\n",
       "    </tr>\n",
       "  </tbody>\n",
       "</table>\n",
       "</div>"
      ],
      "text/plain": [
       "  Transaction ID       Country  Amount (USD)   Transaction Type  \\\n",
       "0   TX0000000001        Brazil  3.267530e+06  Offshore Transfer   \n",
       "1   TX0000000002         China  4.965767e+06    Stocks Transfer   \n",
       "2   TX0000000003            UK  9.416750e+04    Stocks Transfer   \n",
       "3   TX0000000004           UAE  3.864201e+05    Cash Withdrawal   \n",
       "4   TX0000000005  South Africa  6.433784e+05     Cryptocurrency   \n",
       "\n",
       "   Date of Transaction Person Involved      Industry Destination Country  \\\n",
       "0  2013-01-01 00:00:00     Person_1101  Construction                 USA   \n",
       "1  2013-01-01 01:00:00     Person_7484  Luxury Goods        South Africa   \n",
       "2  2013-01-01 02:00:00     Person_3655  Construction         Switzerland   \n",
       "3  2013-01-01 03:00:00     Person_3226     Oil & Gas              Russia   \n",
       "4  2013-01-01 04:00:00     Person_7975   Real Estate                 USA   \n",
       "\n",
       "   Reported by Authority Source of Money  Money Laundering Risk Score  \\\n",
       "0                   True         Illegal                            6   \n",
       "1                  False         Illegal                            9   \n",
       "2                   True         Illegal                            1   \n",
       "3                  False         Illegal                            7   \n",
       "4                   True         Illegal                            1   \n",
       "\n",
       "   Shell Companies Involved Financial Institution Tax Haven Country  \n",
       "0                         1               Bank_40         Singapore  \n",
       "1                         0              Bank_461           Bahamas  \n",
       "2                         3              Bank_387       Switzerland  \n",
       "3                         2              Bank_353            Panama  \n",
       "4                         9               Bank_57        Luxembourg  "
      ]
     },
     "execution_count": 2,
     "metadata": {},
     "output_type": "execute_result"
    }
   ],
   "source": [
    " df = pd.read_csv('Big_Black_Money_Dataset.csv')\n",
    "df.head()"
   ]
  },
  {
   "cell_type": "code",
   "execution_count": 3,
   "id": "35a0fdac-d456-488b-8256-f3c4587cb3f3",
   "metadata": {},
   "outputs": [
    {
     "data": {
      "text/html": [
       "<div>\n",
       "<style scoped>\n",
       "    .dataframe tbody tr th:only-of-type {\n",
       "        vertical-align: middle;\n",
       "    }\n",
       "\n",
       "    .dataframe tbody tr th {\n",
       "        vertical-align: top;\n",
       "    }\n",
       "\n",
       "    .dataframe thead th {\n",
       "        text-align: right;\n",
       "    }\n",
       "</style>\n",
       "<table border=\"1\" class=\"dataframe\">\n",
       "  <thead>\n",
       "    <tr style=\"text-align: right;\">\n",
       "      <th></th>\n",
       "      <th>0</th>\n",
       "      <th>1</th>\n",
       "    </tr>\n",
       "  </thead>\n",
       "  <tbody>\n",
       "    <tr>\n",
       "      <th>Transaction ID</th>\n",
       "      <td>0</td>\n",
       "      <td>0.0</td>\n",
       "    </tr>\n",
       "    <tr>\n",
       "      <th>Country</th>\n",
       "      <td>0</td>\n",
       "      <td>0.0</td>\n",
       "    </tr>\n",
       "    <tr>\n",
       "      <th>Amount (USD)</th>\n",
       "      <td>0</td>\n",
       "      <td>0.0</td>\n",
       "    </tr>\n",
       "    <tr>\n",
       "      <th>Transaction Type</th>\n",
       "      <td>0</td>\n",
       "      <td>0.0</td>\n",
       "    </tr>\n",
       "    <tr>\n",
       "      <th>Date of Transaction</th>\n",
       "      <td>0</td>\n",
       "      <td>0.0</td>\n",
       "    </tr>\n",
       "    <tr>\n",
       "      <th>Person Involved</th>\n",
       "      <td>0</td>\n",
       "      <td>0.0</td>\n",
       "    </tr>\n",
       "    <tr>\n",
       "      <th>Industry</th>\n",
       "      <td>0</td>\n",
       "      <td>0.0</td>\n",
       "    </tr>\n",
       "    <tr>\n",
       "      <th>Destination Country</th>\n",
       "      <td>0</td>\n",
       "      <td>0.0</td>\n",
       "    </tr>\n",
       "    <tr>\n",
       "      <th>Reported by Authority</th>\n",
       "      <td>0</td>\n",
       "      <td>0.0</td>\n",
       "    </tr>\n",
       "    <tr>\n",
       "      <th>Source of Money</th>\n",
       "      <td>0</td>\n",
       "      <td>0.0</td>\n",
       "    </tr>\n",
       "    <tr>\n",
       "      <th>Money Laundering Risk Score</th>\n",
       "      <td>0</td>\n",
       "      <td>0.0</td>\n",
       "    </tr>\n",
       "    <tr>\n",
       "      <th>Shell Companies Involved</th>\n",
       "      <td>0</td>\n",
       "      <td>0.0</td>\n",
       "    </tr>\n",
       "    <tr>\n",
       "      <th>Financial Institution</th>\n",
       "      <td>0</td>\n",
       "      <td>0.0</td>\n",
       "    </tr>\n",
       "    <tr>\n",
       "      <th>Tax Haven Country</th>\n",
       "      <td>0</td>\n",
       "      <td>0.0</td>\n",
       "    </tr>\n",
       "  </tbody>\n",
       "</table>\n",
       "</div>"
      ],
      "text/plain": [
       "                             0    1\n",
       "Transaction ID               0  0.0\n",
       "Country                      0  0.0\n",
       "Amount (USD)                 0  0.0\n",
       "Transaction Type             0  0.0\n",
       "Date of Transaction          0  0.0\n",
       "Person Involved              0  0.0\n",
       "Industry                     0  0.0\n",
       "Destination Country          0  0.0\n",
       "Reported by Authority        0  0.0\n",
       "Source of Money              0  0.0\n",
       "Money Laundering Risk Score  0  0.0\n",
       "Shell Companies Involved     0  0.0\n",
       "Financial Institution        0  0.0\n",
       "Tax Haven Country            0  0.0"
      ]
     },
     "execution_count": 3,
     "metadata": {},
     "output_type": "execute_result"
    }
   ],
   "source": [
    "#what percentage of missing or null values exist in each column? How would you handle these missing values?\n",
    "Missing_values_per= (df.isnull().sum()/len(df)) * 100\n",
    "Total_missing = df.isnull().sum()\n",
    "Missing_value_outcome = pd.concat( [Total_missing,Missing_values_per], axis =1)\n",
    "Missing_value_outcome"
   ]
  },
  {
   "cell_type": "code",
   "execution_count": null,
   "id": "5388f82a-ba90-455e-b1a3-f0b418372191",
   "metadata": {},
   "outputs": [],
   "source": []
  },
  {
   "cell_type": "code",
   "execution_count": 4,
   "id": "3fe82685-f8e9-4bf4-bf79-8a7d1f2aef49",
   "metadata": {},
   "outputs": [
    {
     "data": {
      "text/plain": [
       "count    1.000000e+04\n",
       "mean     2.501818e+06\n",
       "std      1.424364e+06\n",
       "min      1.003180e+04\n",
       "25%      1.279005e+06\n",
       "50%      2.501310e+06\n",
       "75%      3.722416e+06\n",
       "max      4.999812e+06\n",
       "Name: Amount (USD), dtype: float64"
      ]
     },
     "execution_count": 4,
     "metadata": {},
     "output_type": "execute_result"
    }
   ],
   "source": [
    "# Perform a summary of basic statistics (mean, median, standard deviation, min, and max) for the amount (USD) column. Identify any extreme outliers using Z-scores\n",
    "df['Amount (USD)'].describe()"
   ]
  },
  {
   "cell_type": "code",
   "execution_count": 5,
   "id": "0224f126-7435-4cda-9711-e497cfbf0fdd",
   "metadata": {},
   "outputs": [
    {
     "name": "stdout",
     "output_type": "stream",
     "text": [
      "Empty DataFrame\n",
      "Columns: [Transaction ID, Country, Amount (USD), Transaction Type, Date of Transaction, Person Involved, Industry, Destination Country, Reported by Authority, Source of Money, Money Laundering Risk Score, Shell Companies Involved, Financial Institution, Tax Haven Country]\n",
      "Index: []\n"
     ]
    }
   ],
   "source": [
    "# identify any extreme outliers using Z-scores\n",
    "from scipy import stats\n",
    "z_scores= stats.zscore(df['Amount (USD)'])\n",
    "outliers = df[(z_scores > 3) | (z_scores < -3)]\n",
    "print(outliers)"
   ]
  },
  {
   "cell_type": "code",
   "execution_count": 6,
   "id": "560955ea-c47b-4b2f-8b43-e7313c88d90c",
   "metadata": {},
   "outputs": [
    {
     "name": "stdout",
     "output_type": "stream",
     "text": [
      "Empty DataFrame\n",
      "Columns: [Transaction ID, Country, Amount (USD), Transaction Type, Date of Transaction, Person Involved, Industry, Destination Country, Reported by Authority, Source of Money, Money Laundering Risk Score, Shell Companies Involved, Financial Institution, Tax Haven Country]\n",
      "Index: []\n"
     ]
    }
   ],
   "source": [
    "# Identify any extreme outliers using IQR method\n",
    "Q1 = df['Amount (USD)'].quantile(0.25)\n",
    "Q3 = df['Amount (USD)'].quantile(0.75)\n",
    "IQR = Q3-Q1\n",
    "lower_bound = Q1 - 1.5 * IQR\n",
    "upper_bound = Q3 + 1.5 * IQR\n",
    "outliers_r = df[(df['Amount (USD)'] < lower_bound)|(df['Amount (USD)'] > upper_bound)]\n",
    "print(outliers_r)\n",
    "# Summary :\n",
    "# Z-score method: Detects outliers more than 3 standard deviation away from the mean.\n",
    "# IQR method: flags values outside the range of 1.5 * IQR from  Q1 or Q3."
   ]
  },
  {
   "cell_type": "code",
   "execution_count": 7,
   "id": "dffc20fa-6add-44ee-9ff3-d6646fbb1e2d",
   "metadata": {},
   "outputs": [
    {
     "name": "stdout",
     "output_type": "stream",
     "text": [
      "['Brazil' 'China' 'UK' 'UAE' 'South Africa' 'Russia' 'Switzerland' 'India'\n",
      " 'USA' 'Singapore']\n",
      "['USA' 'South Africa' 'Switzerland' 'Russia' 'Brazil' 'UK' 'India' 'China'\n",
      " 'Singapore' 'UAE']\n"
     ]
    }
   ],
   "source": [
    "# How many unique values are present in the country and destination country columns? Are there any descrepancies (e.g spelling inconsistencies)?\n",
    "col = df[['Country', 'Destination Country']]\n",
    "for x in col:\n",
    "    print(df[x].unique())"
   ]
  },
  {
   "cell_type": "code",
   "execution_count": 15,
   "id": "07f0ef38-6c07-426c-ad78-e9d7d3d7463e",
   "metadata": {},
   "outputs": [
    {
     "data": {
      "text/html": [
       "<div>\n",
       "<style scoped>\n",
       "    .dataframe tbody tr th:only-of-type {\n",
       "        vertical-align: middle;\n",
       "    }\n",
       "\n",
       "    .dataframe tbody tr th {\n",
       "        vertical-align: top;\n",
       "    }\n",
       "\n",
       "    .dataframe thead th {\n",
       "        text-align: right;\n",
       "    }\n",
       "</style>\n",
       "<table border=\"1\" class=\"dataframe\">\n",
       "  <thead>\n",
       "    <tr style=\"text-align: right;\">\n",
       "      <th></th>\n",
       "      <th>Transaction ID</th>\n",
       "      <th>Country</th>\n",
       "      <th>Amount (USD)</th>\n",
       "      <th>Transaction Type</th>\n",
       "      <th>Date of Transaction</th>\n",
       "      <th>Person Involved</th>\n",
       "      <th>Industry</th>\n",
       "      <th>Destination Country</th>\n",
       "      <th>Reported by Authority</th>\n",
       "      <th>Source of Money</th>\n",
       "      <th>Money Laundering Risk Score</th>\n",
       "      <th>Shell Companies Involved</th>\n",
       "      <th>Financial Institution</th>\n",
       "      <th>Tax Haven Country</th>\n",
       "      <th>Date of transaction</th>\n",
       "      <th>Year_of_transaction</th>\n",
       "      <th>Month_of_transaction</th>\n",
       "      <th>Day_of_transaction</th>\n",
       "    </tr>\n",
       "  </thead>\n",
       "  <tbody>\n",
       "    <tr>\n",
       "      <th>0</th>\n",
       "      <td>TX0000000001</td>\n",
       "      <td>Brazil</td>\n",
       "      <td>3.267530e+06</td>\n",
       "      <td>Offshore Transfer</td>\n",
       "      <td>2013-01-01 00:00:00</td>\n",
       "      <td>Person_1101</td>\n",
       "      <td>Construction</td>\n",
       "      <td>USA</td>\n",
       "      <td>True</td>\n",
       "      <td>Illegal</td>\n",
       "      <td>6</td>\n",
       "      <td>1</td>\n",
       "      <td>Bank_40</td>\n",
       "      <td>Singapore</td>\n",
       "      <td>2013-01-01 00:00:00</td>\n",
       "      <td>2013</td>\n",
       "      <td>1</td>\n",
       "      <td>1</td>\n",
       "    </tr>\n",
       "    <tr>\n",
       "      <th>1</th>\n",
       "      <td>TX0000000002</td>\n",
       "      <td>China</td>\n",
       "      <td>4.965767e+06</td>\n",
       "      <td>Stocks Transfer</td>\n",
       "      <td>2013-01-01 01:00:00</td>\n",
       "      <td>Person_7484</td>\n",
       "      <td>Luxury Goods</td>\n",
       "      <td>South Africa</td>\n",
       "      <td>False</td>\n",
       "      <td>Illegal</td>\n",
       "      <td>9</td>\n",
       "      <td>0</td>\n",
       "      <td>Bank_461</td>\n",
       "      <td>Bahamas</td>\n",
       "      <td>2013-01-01 01:00:00</td>\n",
       "      <td>2013</td>\n",
       "      <td>1</td>\n",
       "      <td>1</td>\n",
       "    </tr>\n",
       "    <tr>\n",
       "      <th>2</th>\n",
       "      <td>TX0000000003</td>\n",
       "      <td>UK</td>\n",
       "      <td>9.416750e+04</td>\n",
       "      <td>Stocks Transfer</td>\n",
       "      <td>2013-01-01 02:00:00</td>\n",
       "      <td>Person_3655</td>\n",
       "      <td>Construction</td>\n",
       "      <td>Switzerland</td>\n",
       "      <td>True</td>\n",
       "      <td>Illegal</td>\n",
       "      <td>1</td>\n",
       "      <td>3</td>\n",
       "      <td>Bank_387</td>\n",
       "      <td>Switzerland</td>\n",
       "      <td>2013-01-01 02:00:00</td>\n",
       "      <td>2013</td>\n",
       "      <td>1</td>\n",
       "      <td>1</td>\n",
       "    </tr>\n",
       "    <tr>\n",
       "      <th>3</th>\n",
       "      <td>TX0000000004</td>\n",
       "      <td>UAE</td>\n",
       "      <td>3.864201e+05</td>\n",
       "      <td>Cash Withdrawal</td>\n",
       "      <td>2013-01-01 03:00:00</td>\n",
       "      <td>Person_3226</td>\n",
       "      <td>Oil &amp; Gas</td>\n",
       "      <td>Russia</td>\n",
       "      <td>False</td>\n",
       "      <td>Illegal</td>\n",
       "      <td>7</td>\n",
       "      <td>2</td>\n",
       "      <td>Bank_353</td>\n",
       "      <td>Panama</td>\n",
       "      <td>2013-01-01 03:00:00</td>\n",
       "      <td>2013</td>\n",
       "      <td>1</td>\n",
       "      <td>1</td>\n",
       "    </tr>\n",
       "    <tr>\n",
       "      <th>4</th>\n",
       "      <td>TX0000000005</td>\n",
       "      <td>South Africa</td>\n",
       "      <td>6.433784e+05</td>\n",
       "      <td>Cryptocurrency</td>\n",
       "      <td>2013-01-01 04:00:00</td>\n",
       "      <td>Person_7975</td>\n",
       "      <td>Real Estate</td>\n",
       "      <td>USA</td>\n",
       "      <td>True</td>\n",
       "      <td>Illegal</td>\n",
       "      <td>1</td>\n",
       "      <td>9</td>\n",
       "      <td>Bank_57</td>\n",
       "      <td>Luxembourg</td>\n",
       "      <td>2013-01-01 04:00:00</td>\n",
       "      <td>2013</td>\n",
       "      <td>1</td>\n",
       "      <td>1</td>\n",
       "    </tr>\n",
       "  </tbody>\n",
       "</table>\n",
       "</div>"
      ],
      "text/plain": [
       "  Transaction ID       Country  Amount (USD)   Transaction Type  \\\n",
       "0   TX0000000001        Brazil  3.267530e+06  Offshore Transfer   \n",
       "1   TX0000000002         China  4.965767e+06    Stocks Transfer   \n",
       "2   TX0000000003            UK  9.416750e+04    Stocks Transfer   \n",
       "3   TX0000000004           UAE  3.864201e+05    Cash Withdrawal   \n",
       "4   TX0000000005  South Africa  6.433784e+05     Cryptocurrency   \n",
       "\n",
       "   Date of Transaction Person Involved      Industry Destination Country  \\\n",
       "0  2013-01-01 00:00:00     Person_1101  Construction                 USA   \n",
       "1  2013-01-01 01:00:00     Person_7484  Luxury Goods        South Africa   \n",
       "2  2013-01-01 02:00:00     Person_3655  Construction         Switzerland   \n",
       "3  2013-01-01 03:00:00     Person_3226     Oil & Gas              Russia   \n",
       "4  2013-01-01 04:00:00     Person_7975   Real Estate                 USA   \n",
       "\n",
       "   Reported by Authority Source of Money  Money Laundering Risk Score  \\\n",
       "0                   True         Illegal                            6   \n",
       "1                  False         Illegal                            9   \n",
       "2                   True         Illegal                            1   \n",
       "3                  False         Illegal                            7   \n",
       "4                   True         Illegal                            1   \n",
       "\n",
       "   Shell Companies Involved Financial Institution Tax Haven Country  \\\n",
       "0                         1               Bank_40         Singapore   \n",
       "1                         0              Bank_461           Bahamas   \n",
       "2                         3              Bank_387       Switzerland   \n",
       "3                         2              Bank_353            Panama   \n",
       "4                         9               Bank_57        Luxembourg   \n",
       "\n",
       "  Date of transaction  Year_of_transaction  Month_of_transaction  \\\n",
       "0 2013-01-01 00:00:00                 2013                     1   \n",
       "1 2013-01-01 01:00:00                 2013                     1   \n",
       "2 2013-01-01 02:00:00                 2013                     1   \n",
       "3 2013-01-01 03:00:00                 2013                     1   \n",
       "4 2013-01-01 04:00:00                 2013                     1   \n",
       "\n",
       "   Day_of_transaction  \n",
       "0                   1  \n",
       "1                   1  \n",
       "2                   1  \n",
       "3                   1  \n",
       "4                   1  "
      ]
     },
     "execution_count": 15,
     "metadata": {},
     "output_type": "execute_result"
    }
   ],
   "source": [
    "# convert the date of transction column into components like year, month, and day. what are the most frequent transaction year and month?\n",
    "df['Date of transaction'] = pd.to_datetime(df['Date of Transaction'])\n",
    "df['Year_of_transaction'] =pd.DatetimeIndex(df['Date of Transaction']).year\n",
    "df['Month_of_transaction'] =pd.DatetimeIndex(df['Date of Transaction']).month\n",
    "df['Day_of_transaction'] =pd.DatetimeIndex(df['Date of Transaction']).day\n",
    "df.head()"
   ]
  },
  {
   "cell_type": "code",
   "execution_count": 9,
   "id": "87a6f240-e97f-465b-85aa-8c015272753b",
   "metadata": {},
   "outputs": [
    {
     "data": {
      "text/plain": [
       "Year_of_transaction\n",
       "2013    8760\n",
       "2014    1240\n",
       "Name: count, dtype: int64"
      ]
     },
     "execution_count": 9,
     "metadata": {},
     "output_type": "execute_result"
    }
   ],
   "source": [
    "df['Year_of_transaction'].value_counts().sort_values(ascending=False)"
   ]
  },
  {
   "cell_type": "code",
   "execution_count": 10,
   "id": "832e5ac5-7bae-470f-b821-bf82e4303edf",
   "metadata": {},
   "outputs": [
    {
     "data": {
      "text/plain": [
       "Month_of_transaction\n",
       "1     1488\n",
       "2     1168\n",
       "3      744\n",
       "5      744\n",
       "7      744\n",
       "8      744\n",
       "10     744\n",
       "12     744\n",
       "4      720\n",
       "6      720\n",
       "9      720\n",
       "11     720\n",
       "Name: count, dtype: int64"
      ]
     },
     "execution_count": 10,
     "metadata": {},
     "output_type": "execute_result"
    }
   ],
   "source": [
    "df['Month_of_transaction'].value_counts().sort_values(ascending=False)"
   ]
  },
  {
   "cell_type": "code",
   "execution_count": 11,
   "id": "359e500c-9aaa-4308-8706-ee93fa160c50",
   "metadata": {},
   "outputs": [
    {
     "name": "stdout",
     "output_type": "stream",
     "text": [
      "Industry\n",
      "Finance         1475\n",
      "Construction    1460\n",
      "Luxury Goods    1459\n",
      "Real Estate     1443\n",
      "Arms Trade      1414\n",
      "Casinos         1377\n",
      "Oil & Gas       1372\n",
      "Name: count, dtype: int64\n",
      "Transaction Type\n",
      "Property Purchase    2086\n",
      "Stocks Transfer      1983\n",
      "Offshore Transfer    1980\n",
      "Cash Withdrawal      1978\n",
      "Cryptocurrency       1973\n",
      "Name: count, dtype: int64\n"
     ]
    }
   ],
   "source": [
    "# perform frequency counts of categorical columns such as Transaction type and Industry. Are there any values that  occur unusually often or rarely?\n",
    "Transaction_type_count = df['Transaction Type'].value_counts()\n",
    "Industry_count = df['Industry'].value_counts()\n",
    "print(Industry_count)\n",
    "print(Transaction_type_count)"
   ]
  },
  {
   "cell_type": "code",
   "execution_count": 12,
   "id": "75ca436d-dde6-4fda-bbd5-d3966036f0d0",
   "metadata": {},
   "outputs": [
    {
     "name": "stdout",
     "output_type": "stream",
     "text": [
      "Series([], Name: count, dtype: int64)\n",
      "Series([], Name: count, dtype: int64)\n",
      "Series([], Name: count, dtype: int64)\n",
      "Industry\n",
      "Finance         1475\n",
      "Construction    1460\n",
      "Luxury Goods    1459\n",
      "Real Estate     1443\n",
      "Arms Trade      1414\n",
      "Casinos         1377\n",
      "Oil & Gas       1372\n",
      "Name: count, dtype: int64\n"
     ]
    }
   ],
   "source": [
    "# Are there any values that  occur unusually often or rarely?\n",
    "Rarely_threshold = 0.02 * len(df)\n",
    "Often_threshold = 0.18 * len(df)\n",
    "print(Transaction_type_count[Transaction_type_count < Rarely_threshold])\n",
    "print(Industry_count[Industry_count<Rarely_threshold])\n",
    "print(Transaction_type_count[Transaction_type_count < Often_threshold])\n",
    "print(Industry_count[Industry_count<Often_threshold])\n"
   ]
  },
  {
   "cell_type": "code",
   "execution_count": 13,
   "id": "45cc139a-5608-45f2-a70c-3acf9cedba30",
   "metadata": {},
   "outputs": [
    {
     "name": "stdout",
     "output_type": "stream",
     "text": [
      "Transaction Type\n",
      "Property Purchase    20.86\n",
      "Stocks Transfer      19.83\n",
      "Offshore Transfer    19.80\n",
      "Cash Withdrawal      19.78\n",
      "Cryptocurrency       19.73\n",
      "Name: count, dtype: float64\n"
     ]
    }
   ],
   "source": [
    "Transaction_type_counts_per = (df['Transaction Type'].value_counts()/df['Transaction Type'].value_counts().sum()) * 100\n",
    "print(Transaction_type_counts_per)"
   ]
  },
  {
   "cell_type": "code",
   "execution_count": 20,
   "id": "51dd56a2-b196-45e3-82dc-20e301ef8bdd",
   "metadata": {},
   "outputs": [
    {
     "name": "stdout",
     "output_type": "stream",
     "text": [
      "the mean transaction for person involved is 1.5822784810126582\n",
      "the median transaction for person involved is 1.0\n",
      "the max transaction for person involved is 7\n"
     ]
    }
   ],
   "source": [
    "#calculate the total number of transactions for each person involved. what are the descriptive statistics (mean, median, max) for transaction counts per person?\n",
    "transaction_count = df.groupby('Person Involved').size()\n",
    "mean_transaction = transaction_count.mean()\n",
    "median_transaction = transaction_count.median()\n",
    "max_transaction = transaction_count.max()\n",
    "print(f'the mean transaction for person involved is {mean_transaction }')\n",
    "print(f'the median transaction for person involved is {median_transaction}')\n",
    "print(f'the max transaction for person involved is {max_transaction}')"
   ]
  },
  {
   "cell_type": "code",
   "execution_count": null,
   "id": "7ffadb8f-6206-42fc-a1cc-2220ba5c2663",
   "metadata": {},
   "outputs": [],
   "source": [
    "# Create a feature reperesenting the transaction time difference between consecutive transactions for each person. What are the average and median time difference?"
   ]
  },
  {
   "cell_type": "code",
   "execution_count": null,
   "id": "8e676256-bfa0-494b-b49f-46f2e2a56432",
   "metadata": {},
   "outputs": [],
   "source": [
    "df.sort_values(by=['Person involved', 'Date of transaction'], inplace=True, ignore_index=True)\n",
    "df['Time Diff']= df.groupby('Person involved')['Date of transaction'].diff()\n",
    "df.head()"
   ]
  },
  {
   "cell_type": "code",
   "execution_count": null,
   "id": "446a26fa-32c1-4769-96d2-543de53ab154",
   "metadata": {},
   "outputs": [],
   "source": [
    "# How many transactions invove tax haven countries? calculate the properties of transaction going to these counties.\n",
    "df['Tax Haven Country'].value_counts().sort_values(ascending=False)"
   ]
  },
  {
   "cell_type": "code",
   "execution_count": 39,
   "id": "e3c7c97d-d9b2-402b-8703-7ad30d6efcf5",
   "metadata": {},
   "outputs": [
    {
     "data": {
      "text/plain": [
       "Tax Haven Country\n",
       "Panama            17.43\n",
       "Luxembourg        16.81\n",
       "Cayman Islands    16.76\n",
       "Singapore         16.44\n",
       "Bahamas           16.28\n",
       "Switzerland       16.28\n",
       "Name: count, dtype: float64"
      ]
     },
     "execution_count": 39,
     "metadata": {},
     "output_type": "execute_result"
    }
   ],
   "source": [
    "(df['Tax Haven Country'].value_counts().sort_values(ascending=False)/df['Tax Haven Country'].value_counts().sort_values(ascending=False).sum())*100"
   ]
  },
  {
   "cell_type": "code",
   "execution_count": 16,
   "id": "e8b70a1b-abdd-4fa3-9a15-0668ffe003df",
   "metadata": {},
   "outputs": [],
   "source": [
    "# create a column to categorise amount (usd) into bins (eg low medium, high). How many transaction fall into each category\n",
    "df['Amount (USD)'].max() - df['Amount (USD)'].min()\n",
    "bins = [10031.80, 500000,2000000,4999812.41]\n",
    "labels = ['low', 'medium', 'high'] "
   ]
  },
  {
   "cell_type": "code",
   "execution_count": 21,
   "id": "f656cb56-aafe-48b8-8b4c-dc0a98682e5b",
   "metadata": {},
   "outputs": [
    {
     "name": "stdout",
     "output_type": "stream",
     "text": [
      "Mean Risk Index is  9.9958\n",
      "Range Risk Index is 18\n"
     ]
    }
   ],
   "source": [
    "#create a new feature called Risk index that combines money laundering risk score and the number of shell companies involved. What is the range and average of this index?\n",
    "df['Risk Index']= df['Money Laundering Risk Score'] + df['Shell Companies Involved']\n",
    "print(f'Mean Risk Index is  {df[\"Risk Index\"].mean()}')\n",
    "print(f'Range Risk Index is {df[\"Risk Index\"].max() - df[\"Risk Index\"].min()}')"
   ]
  },
  {
   "cell_type": "code",
   "execution_count": 25,
   "id": "e7fe61c8-f19a-4163-8c03-b3240bc961ba",
   "metadata": {},
   "outputs": [
    {
     "data": {
      "text/plain": [
       "Industry\n",
       "Finance         5.711864\n",
       "Construction    5.583562\n",
       "Arms Trade      5.570721\n",
       "Casinos         5.556282\n",
       "Real Estate     5.455301\n",
       "Name: Money Laundering Risk Score, dtype: float64"
      ]
     },
     "execution_count": 25,
     "metadata": {},
     "output_type": "execute_result"
    }
   ],
   "source": [
    "#Calculate the average Money Laundering risk Score for each Industry. What are the industries with the highest average risk?\n",
    "df.groupby('Industry')['Money Laundering Risk Score'].mean().sort_values(ascending=False).head()"
   ]
  },
  {
   "cell_type": "code",
   "execution_count": 26,
   "id": "5f7d341a-4808-4de9-ba0b-90e4833a180a",
   "metadata": {},
   "outputs": [
    {
     "data": {
      "text/plain": [
       "2115"
      ]
     },
     "execution_count": 26,
     "metadata": {},
     "output_type": "execute_result"
    }
   ],
   "source": [
    "# Create a binary flag to indicate high-risk transactions where money laundering risk score is greater than 7 and more than 2 shell companies are involved.\n",
    "# How many transactions meet this criteria?\n",
    "df['High Risk Flag']= ((df['Money Laundering Risk Score'] > 7) & (df['Shell Companies Involved'] > 2)).astype(int)\n",
    "df['High Risk Flag'].sum()"
   ]
  },
  {
   "cell_type": "code",
   "execution_count": 31,
   "id": "cab70ef5-2dec-42ab-bc80-6449ff32b40e",
   "metadata": {},
   "outputs": [
    {
     "name": "stdout",
     "output_type": "stream",
     "text": [
      "     Transaction Type      Industry  Count\n",
      "27  Property Purchase   Real Estate    324\n",
      "17  Offshore Transfer       Finance    319\n",
      "2     Cash Withdrawal  Construction    318\n",
      "23  Property Purchase  Construction    311\n",
      "21  Property Purchase    Arms Trade    303\n"
     ]
    }
   ],
   "source": [
    "# What are the most common combinations of Transaction Type and industry? Provide the 5 most frequent combinations.\n",
    "common_combinations = df.groupby(['Transaction Type', 'Industry']).size().reset_index(name='Count')\n",
    "Top_5 = common_combinations.sort_values(by ='Count', ascending=False)\n",
    "print(Top_5.head(5))"
   ]
  },
  {
   "cell_type": "code",
   "execution_count": 35,
   "id": "456880a4-b557-4abd-a3e2-4fdd1aad049f",
   "metadata": {},
   "outputs": [
    {
     "data": {
      "text/html": [
       "<div>\n",
       "<style scoped>\n",
       "    .dataframe tbody tr th:only-of-type {\n",
       "        vertical-align: middle;\n",
       "    }\n",
       "\n",
       "    .dataframe tbody tr th {\n",
       "        vertical-align: top;\n",
       "    }\n",
       "\n",
       "    .dataframe thead th {\n",
       "        text-align: right;\n",
       "    }\n",
       "</style>\n",
       "<table border=\"1\" class=\"dataframe\">\n",
       "  <thead>\n",
       "    <tr style=\"text-align: right;\">\n",
       "      <th></th>\n",
       "      <th>Country</th>\n",
       "      <th>mean</th>\n",
       "      <th>median</th>\n",
       "      <th>std</th>\n",
       "    </tr>\n",
       "  </thead>\n",
       "  <tbody>\n",
       "    <tr>\n",
       "      <th>1</th>\n",
       "      <td>China</td>\n",
       "      <td>2.593129e+06</td>\n",
       "      <td>2.644712e+06</td>\n",
       "      <td>1.436594e+06</td>\n",
       "    </tr>\n",
       "    <tr>\n",
       "      <th>6</th>\n",
       "      <td>Switzerland</td>\n",
       "      <td>2.517068e+06</td>\n",
       "      <td>2.592528e+06</td>\n",
       "      <td>1.428701e+06</td>\n",
       "    </tr>\n",
       "    <tr>\n",
       "      <th>5</th>\n",
       "      <td>South Africa</td>\n",
       "      <td>2.510831e+06</td>\n",
       "      <td>2.455383e+06</td>\n",
       "      <td>1.398297e+06</td>\n",
       "    </tr>\n",
       "    <tr>\n",
       "      <th>4</th>\n",
       "      <td>Singapore</td>\n",
       "      <td>2.508388e+06</td>\n",
       "      <td>2.561971e+06</td>\n",
       "      <td>1.422815e+06</td>\n",
       "    </tr>\n",
       "    <tr>\n",
       "      <th>3</th>\n",
       "      <td>Russia</td>\n",
       "      <td>2.501651e+06</td>\n",
       "      <td>2.478250e+06</td>\n",
       "      <td>1.450927e+06</td>\n",
       "    </tr>\n",
       "    <tr>\n",
       "      <th>0</th>\n",
       "      <td>Brazil</td>\n",
       "      <td>2.498370e+06</td>\n",
       "      <td>2.465548e+06</td>\n",
       "      <td>1.423476e+06</td>\n",
       "    </tr>\n",
       "    <tr>\n",
       "      <th>8</th>\n",
       "      <td>UK</td>\n",
       "      <td>2.492823e+06</td>\n",
       "      <td>2.489680e+06</td>\n",
       "      <td>1.442969e+06</td>\n",
       "    </tr>\n",
       "    <tr>\n",
       "      <th>2</th>\n",
       "      <td>India</td>\n",
       "      <td>2.492579e+06</td>\n",
       "      <td>2.518758e+06</td>\n",
       "      <td>1.411817e+06</td>\n",
       "    </tr>\n",
       "    <tr>\n",
       "      <th>7</th>\n",
       "      <td>UAE</td>\n",
       "      <td>2.490049e+06</td>\n",
       "      <td>2.442782e+06</td>\n",
       "      <td>1.435933e+06</td>\n",
       "    </tr>\n",
       "    <tr>\n",
       "      <th>9</th>\n",
       "      <td>USA</td>\n",
       "      <td>2.407059e+06</td>\n",
       "      <td>2.362195e+06</td>\n",
       "      <td>1.390338e+06</td>\n",
       "    </tr>\n",
       "  </tbody>\n",
       "</table>\n",
       "</div>"
      ],
      "text/plain": [
       "        Country          mean        median           std\n",
       "1         China  2.593129e+06  2.644712e+06  1.436594e+06\n",
       "6   Switzerland  2.517068e+06  2.592528e+06  1.428701e+06\n",
       "5  South Africa  2.510831e+06  2.455383e+06  1.398297e+06\n",
       "4     Singapore  2.508388e+06  2.561971e+06  1.422815e+06\n",
       "3        Russia  2.501651e+06  2.478250e+06  1.450927e+06\n",
       "0        Brazil  2.498370e+06  2.465548e+06  1.423476e+06\n",
       "8            UK  2.492823e+06  2.489680e+06  1.442969e+06\n",
       "2         India  2.492579e+06  2.518758e+06  1.411817e+06\n",
       "7           UAE  2.490049e+06  2.442782e+06  1.435933e+06\n",
       "9           USA  2.407059e+06  2.362195e+06  1.390338e+06"
      ]
     },
     "execution_count": 35,
     "metadata": {},
     "output_type": "execute_result"
    }
   ],
   "source": [
    "# Compute the mean, the median and standard deviation for amount (USD) for each country. which country counties have the highest average transaction amounts?\n",
    "country_stat = df.groupby('Country')['Amount (USD)'].agg(['mean','median','std']).reset_index()\n",
    "country_stat_sorted = country_stat.sort_values(by ='mean', ascending=False)\n",
    "country_stat_sorted"
   ]
  },
  {
   "cell_type": "code",
   "execution_count": 50,
   "id": "f18b2169-b759-42fd-9310-75726749dca9",
   "metadata": {},
   "outputs": [
    {
     "data": {
      "text/html": [
       "<div>\n",
       "<style scoped>\n",
       "    .dataframe tbody tr th:only-of-type {\n",
       "        vertical-align: middle;\n",
       "    }\n",
       "\n",
       "    .dataframe tbody tr th {\n",
       "        vertical-align: top;\n",
       "    }\n",
       "\n",
       "    .dataframe thead th {\n",
       "        text-align: right;\n",
       "    }\n",
       "</style>\n",
       "<table border=\"1\" class=\"dataframe\">\n",
       "  <thead>\n",
       "    <tr style=\"text-align: right;\">\n",
       "      <th></th>\n",
       "      <th>Country</th>\n",
       "      <th>Money Laundering Risk Score</th>\n",
       "    </tr>\n",
       "  </thead>\n",
       "  <tbody>\n",
       "    <tr>\n",
       "      <th>2</th>\n",
       "      <td>India</td>\n",
       "      <td>5.613131</td>\n",
       "    </tr>\n",
       "    <tr>\n",
       "      <th>4</th>\n",
       "      <td>Singapore</td>\n",
       "      <td>5.585930</td>\n",
       "    </tr>\n",
       "    <tr>\n",
       "      <th>0</th>\n",
       "      <td>Brazil</td>\n",
       "      <td>5.579523</td>\n",
       "    </tr>\n",
       "    <tr>\n",
       "      <th>6</th>\n",
       "      <td>Switzerland</td>\n",
       "      <td>5.557360</td>\n",
       "    </tr>\n",
       "    <tr>\n",
       "      <th>8</th>\n",
       "      <td>UK</td>\n",
       "      <td>5.542406</td>\n",
       "    </tr>\n",
       "    <tr>\n",
       "      <th>1</th>\n",
       "      <td>China</td>\n",
       "      <td>5.510597</td>\n",
       "    </tr>\n",
       "    <tr>\n",
       "      <th>9</th>\n",
       "      <td>USA</td>\n",
       "      <td>5.492292</td>\n",
       "    </tr>\n",
       "    <tr>\n",
       "      <th>7</th>\n",
       "      <td>UAE</td>\n",
       "      <td>5.478484</td>\n",
       "    </tr>\n",
       "    <tr>\n",
       "      <th>5</th>\n",
       "      <td>South Africa</td>\n",
       "      <td>5.476608</td>\n",
       "    </tr>\n",
       "    <tr>\n",
       "      <th>3</th>\n",
       "      <td>Russia</td>\n",
       "      <td>5.428285</td>\n",
       "    </tr>\n",
       "  </tbody>\n",
       "</table>\n",
       "</div>"
      ],
      "text/plain": [
       "        Country  Money Laundering Risk Score\n",
       "2         India                     5.613131\n",
       "4     Singapore                     5.585930\n",
       "0        Brazil                     5.579523\n",
       "6   Switzerland                     5.557360\n",
       "8            UK                     5.542406\n",
       "1         China                     5.510597\n",
       "9           USA                     5.492292\n",
       "7           UAE                     5.478484\n",
       "5  South Africa                     5.476608\n",
       "3        Russia                     5.428285"
      ]
     },
     "execution_count": 50,
     "metadata": {},
     "output_type": "execute_result"
    }
   ],
   "source": [
    "# Calculate the average money laundering risk score for each country and compare them. are there any countries that have significantly higher scores than others\n",
    "risk_score = df.groupby('Country')['Money Laundering Risk Score'].mean().reset_index()\n",
    "outcome = risk_score.sort_values('Money Laundering Risk Score', ascending=False)\n",
    "outcome"
   ]
  },
  {
   "cell_type": "code",
   "execution_count": 52,
   "id": "f6764f71-fd20-426d-8e18-f47499000cee",
   "metadata": {},
   "outputs": [
    {
     "name": "stdout",
     "output_type": "stream",
     "text": [
      "  Reported by Authority  Amount (USD) Money Laundering Risk Score\n",
      "                                 mean                        mean\n",
      "0                 False  2.498099e+06                    5.521326\n",
      "1                  True  2.516646e+06                    5.546633\n"
     ]
    }
   ],
   "source": [
    "# Analyze the percentage of transactions that were Reported by Authorities and compare the average amount (USD) and Risk score for reported versus non-reported transaction.\n",
    "percentage_of_transactions =df.groupby('Reported by Authority')[['Amount (USD)','Money Laundering Risk Score']].agg(['mean']).reset_index()\n",
    "print(percentage_of_transactions )"
   ]
  },
  {
   "cell_type": "code",
   "execution_count": 54,
   "id": "2d34188f-4850-404c-bd36-10af1a901498",
   "metadata": {},
   "outputs": [
    {
     "name": "stdout",
     "output_type": "stream",
     "text": [
      "Percentage of transaction reported by the authority:  20.05%\n",
      "   Reported by Authority  Amount (USD)  Money Laundering Risk Score\n",
      "0                  False  2.498099e+06                     5.521326\n",
      "1                   True  2.516646e+06                     5.546633\n"
     ]
    }
   ],
   "source": [
    "#2nd approach\n",
    "total_trans = len(df)\n",
    "reported_trans = len(df[df['Reported by Authority']==1])\n",
    "perc_rep = (reported_trans/total_trans)*100\n",
    "reported_stat = df.groupby('Reported by Authority').agg({'Amount (USD)':'mean', 'Money Laundering Risk Score':'mean'}).reset_index()\n",
    "print(f'Percentage of transaction reported by the authority:  {perc_rep:.2f}%')\n",
    "print(reported_stat)"
   ]
  },
  {
   "cell_type": "code",
   "execution_count": 57,
   "id": "38e7aaef-bb5d-436d-b039-b5bbde2b163f",
   "metadata": {},
   "outputs": [
    {
     "name": "stdout",
     "output_type": "stream",
     "text": [
      "Percentage of transaction not reported by the authority:79.95%\n"
     ]
    }
   ],
   "source": [
    "reported_stat = df.groupby('Reported by Authority').agg({'Amount (USD)':'mean', 'Money Laundering Risk Score':'mean'}).reset_index()\n",
    "#percentage not reported\n",
    "total_trans = len(df)\n",
    "reported_trans_n = len(df[df['Reported by Authority']==0])\n",
    "perc_rep_n = (reported_trans_n/total_trans)*100\n",
    "print(f'Percentage of transaction not reported by the authority:{perc_rep_n:.2f}%')"
   ]
  },
  {
   "cell_type": "code",
   "execution_count": null,
   "id": "2cf45c55-21ca-45df-8b7d-6ad208fa9e1e",
   "metadata": {},
   "outputs": [],
   "source": []
  }
 ],
 "metadata": {
  "kernelspec": {
   "display_name": "Python 3 (ipykernel)",
   "language": "python",
   "name": "python3"
  },
  "language_info": {
   "codemirror_mode": {
    "name": "ipython",
    "version": 3
   },
   "file_extension": ".py",
   "mimetype": "text/x-python",
   "name": "python",
   "nbconvert_exporter": "python",
   "pygments_lexer": "ipython3",
   "version": "3.11.7"
  }
 },
 "nbformat": 4,
 "nbformat_minor": 5
}
